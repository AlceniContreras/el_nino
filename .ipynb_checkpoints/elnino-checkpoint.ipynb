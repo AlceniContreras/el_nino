{
 "cells": [
  {
   "cell_type": "markdown",
   "metadata": {
    "colab_type": "text",
    "id": "xz5_9wAtiME6"
   },
   "source": [
    "# **El Niño**"
   ]
  },
  {
   "cell_type": "markdown",
   "metadata": {},
   "source": [
    "## Context\n",
    "This dataset contains oceanographic and surface meteorological readings taken from a series of buoys positioned throughout the equatorial Pacific. This data was collected with the Tropical Atmosphere Ocean (TAO) array, which consists of nearly 70 moored buoys spanning the equatorial Pacific, measuring oceanographic and surface meteorological variables critical for improved detection, understanding and prediction of seasonal-to-interannual climate variations originating in the tropics.\n",
    "\n",
    "## Content\n",
    "The data consists of the following variables: date, latitude, longitude, zonal winds (west0), meridional winds (south0), relative humidity, air temperature, sea surface temperature and subsurface temperatures down to a depth of 500 meters. Data taken from the buoys from as early as 1980 for some locations. Other data that was taken in various locations are rainfall, solar radiation, current levels, and subsurface temperatures.\n",
    "\n",
    "The latitude and longitude in the data showed that the bouys moved around to different locations. The latitude values stayed within a degree from the approximate location. Yet the longitude values were sometimes as far as five degrees off of the approximate location.\n",
    "\n",
    "There are missing values in the data. Not all buoys are able to measure currents, rainfall, and solar radiation, so these values are missing dependent on the individual buoy. The amount of data available is also dependent on the buoy, as certain buoys were commissioned earlier than others.\n",
    "\n",
    "All readings were taken at the same time of day.\n",
    "\n",
    "## Acknowledgement\n",
    "This dataset is part of the UCI Machine Learning Repository, and the original source can be found here. The original owner is the NOAA Pacific Marine Environmental Laboratory.\n",
    "\n",
    "## Inspiration\n",
    "- How can the data be used to predict weather conditions throughout the world?\n",
    "- How do the variables relate to each other?\n",
    "- Which variables have a greater effect on the climate variations?\n",
    "- Does the amount of movement of the buoy effect the reliability of the data?"
   ]
  },
  {
   "cell_type": "code",
   "execution_count": 1,
   "metadata": {
    "colab": {
     "base_uri": "https://localhost:8080/",
     "height": 348
    },
    "colab_type": "code",
    "id": "SEEOUcZ_iHYH",
    "outputId": "3d49dd42-e871-4058-c26a-75d92e0a6e17"
   },
   "outputs": [
    {
     "data": {
      "text/html": [
       "<div>\n",
       "<style scoped>\n",
       "    .dataframe tbody tr th:only-of-type {\n",
       "        vertical-align: middle;\n",
       "    }\n",
       "\n",
       "    .dataframe tbody tr th {\n",
       "        vertical-align: top;\n",
       "    }\n",
       "\n",
       "    .dataframe thead th {\n",
       "        text-align: right;\n",
       "    }\n",
       "</style>\n",
       "<table border=\"1\" class=\"dataframe\">\n",
       "  <thead>\n",
       "    <tr style=\"text-align: right;\">\n",
       "      <th></th>\n",
       "      <th>Observation</th>\n",
       "      <th>Year</th>\n",
       "      <th>Month</th>\n",
       "      <th>Day</th>\n",
       "      <th>Date</th>\n",
       "      <th>Latitude</th>\n",
       "      <th>Longitude</th>\n",
       "      <th>Zonal Winds</th>\n",
       "      <th>Meridional Winds</th>\n",
       "      <th>Humidity</th>\n",
       "      <th>Air Temp</th>\n",
       "      <th>Sea Surface Temp</th>\n",
       "    </tr>\n",
       "  </thead>\n",
       "  <tbody>\n",
       "    <tr>\n",
       "      <th>0</th>\n",
       "      <td>1</td>\n",
       "      <td>80</td>\n",
       "      <td>3</td>\n",
       "      <td>7</td>\n",
       "      <td>800307</td>\n",
       "      <td>-0.02</td>\n",
       "      <td>-109.46</td>\n",
       "      <td>-6.8</td>\n",
       "      <td>0.7</td>\n",
       "      <td>.</td>\n",
       "      <td>26.14</td>\n",
       "      <td>26.24</td>\n",
       "    </tr>\n",
       "    <tr>\n",
       "      <th>1</th>\n",
       "      <td>2</td>\n",
       "      <td>80</td>\n",
       "      <td>3</td>\n",
       "      <td>8</td>\n",
       "      <td>800308</td>\n",
       "      <td>-0.02</td>\n",
       "      <td>-109.46</td>\n",
       "      <td>-4.9</td>\n",
       "      <td>1.1</td>\n",
       "      <td>.</td>\n",
       "      <td>25.66</td>\n",
       "      <td>25.97</td>\n",
       "    </tr>\n",
       "    <tr>\n",
       "      <th>2</th>\n",
       "      <td>3</td>\n",
       "      <td>80</td>\n",
       "      <td>3</td>\n",
       "      <td>9</td>\n",
       "      <td>800309</td>\n",
       "      <td>-0.02</td>\n",
       "      <td>-109.46</td>\n",
       "      <td>-4.5</td>\n",
       "      <td>2.2</td>\n",
       "      <td>.</td>\n",
       "      <td>25.69</td>\n",
       "      <td>25.28</td>\n",
       "    </tr>\n",
       "    <tr>\n",
       "      <th>3</th>\n",
       "      <td>4</td>\n",
       "      <td>80</td>\n",
       "      <td>3</td>\n",
       "      <td>10</td>\n",
       "      <td>800310</td>\n",
       "      <td>-0.02</td>\n",
       "      <td>-109.46</td>\n",
       "      <td>-3.8</td>\n",
       "      <td>1.9</td>\n",
       "      <td>.</td>\n",
       "      <td>25.57</td>\n",
       "      <td>24.31</td>\n",
       "    </tr>\n",
       "    <tr>\n",
       "      <th>4</th>\n",
       "      <td>5</td>\n",
       "      <td>80</td>\n",
       "      <td>3</td>\n",
       "      <td>11</td>\n",
       "      <td>800311</td>\n",
       "      <td>-0.02</td>\n",
       "      <td>-109.46</td>\n",
       "      <td>-4.2</td>\n",
       "      <td>1.5</td>\n",
       "      <td>.</td>\n",
       "      <td>25.3</td>\n",
       "      <td>23.19</td>\n",
       "    </tr>\n",
       "  </tbody>\n",
       "</table>\n",
       "</div>"
      ],
      "text/plain": [
       "   Observation   Year   Month   Day    Date   Latitude   Longitude  \\\n",
       "0            1     80       3     7  800307      -0.02     -109.46   \n",
       "1            2     80       3     8  800308      -0.02     -109.46   \n",
       "2            3     80       3     9  800309      -0.02     -109.46   \n",
       "3            4     80       3    10  800310      -0.02     -109.46   \n",
       "4            5     80       3    11  800311      -0.02     -109.46   \n",
       "\n",
       "   Zonal Winds  Meridional Winds  Humidity  Air Temp  Sea Surface Temp  \n",
       "0         -6.8               0.7         .     26.14             26.24  \n",
       "1         -4.9               1.1         .     25.66             25.97  \n",
       "2         -4.5               2.2         .     25.69             25.28  \n",
       "3         -3.8               1.9         .     25.57             24.31  \n",
       "4         -4.2               1.5         .      25.3             23.19  "
      ]
     },
     "execution_count": 1,
     "metadata": {},
     "output_type": "execute_result"
    }
   ],
   "source": [
    "import pandas as pd\n",
    "import matplotlib.pyplot as plt\n",
    "import seaborn as sns\n",
    "import datetime\n",
    "\n",
    "df = pd.read_csv('elnino.csv')\n",
    "df.head()"
   ]
  },
  {
   "cell_type": "code",
   "execution_count": 2,
   "metadata": {},
   "outputs": [
    {
     "data": {
      "text/plain": [
       "Index(['Observation', ' Year', ' Month', ' Day', ' Date', ' Latitude',\n",
       "       ' Longitude', ' Zonal Winds', ' Meridional Winds', ' Humidity',\n",
       "       ' Air Temp', ' Sea Surface Temp'],\n",
       "      dtype='object')"
      ]
     },
     "execution_count": 2,
     "metadata": {},
     "output_type": "execute_result"
    }
   ],
   "source": [
    "df.columns"
   ]
  },
  {
   "cell_type": "code",
   "execution_count": 3,
   "metadata": {},
   "outputs": [
    {
     "data": {
      "text/plain": [
       "Index(['Observation', 'Year', 'Month', 'Day', 'Date', 'Latitude', 'Longitude',\n",
       "       'Zonal Winds', 'Meridional Winds', 'Humidity', 'Air Temp',\n",
       "       'Sea Surface Temp'],\n",
       "      dtype='object')"
      ]
     },
     "execution_count": 3,
     "metadata": {},
     "output_type": "execute_result"
    }
   ],
   "source": [
    "df.columns = [col.strip() for col in df.columns]\n",
    "df.columns"
   ]
  },
  {
   "cell_type": "code",
   "execution_count": 4,
   "metadata": {},
   "outputs": [
    {
     "data": {
      "text/html": [
       "<div>\n",
       "<style scoped>\n",
       "    .dataframe tbody tr th:only-of-type {\n",
       "        vertical-align: middle;\n",
       "    }\n",
       "\n",
       "    .dataframe tbody tr th {\n",
       "        vertical-align: top;\n",
       "    }\n",
       "\n",
       "    .dataframe thead th {\n",
       "        text-align: right;\n",
       "    }\n",
       "</style>\n",
       "<table border=\"1\" class=\"dataframe\">\n",
       "  <thead>\n",
       "    <tr style=\"text-align: right;\">\n",
       "      <th></th>\n",
       "      <th>Year</th>\n",
       "      <th>Month</th>\n",
       "      <th>Day</th>\n",
       "      <th>Latitude</th>\n",
       "      <th>Longitude</th>\n",
       "      <th>Zonal Winds</th>\n",
       "      <th>Meridional Winds</th>\n",
       "      <th>Humidity</th>\n",
       "      <th>Air Temp</th>\n",
       "      <th>Sea Surface Temp</th>\n",
       "    </tr>\n",
       "    <tr>\n",
       "      <th>Observation</th>\n",
       "      <th></th>\n",
       "      <th></th>\n",
       "      <th></th>\n",
       "      <th></th>\n",
       "      <th></th>\n",
       "      <th></th>\n",
       "      <th></th>\n",
       "      <th></th>\n",
       "      <th></th>\n",
       "      <th></th>\n",
       "    </tr>\n",
       "  </thead>\n",
       "  <tbody>\n",
       "    <tr>\n",
       "      <th>1</th>\n",
       "      <td>1980</td>\n",
       "      <td>3</td>\n",
       "      <td>7</td>\n",
       "      <td>-0.02</td>\n",
       "      <td>-109.46</td>\n",
       "      <td>-6.8</td>\n",
       "      <td>0.7</td>\n",
       "      <td>.</td>\n",
       "      <td>26.14</td>\n",
       "      <td>26.24</td>\n",
       "    </tr>\n",
       "    <tr>\n",
       "      <th>2</th>\n",
       "      <td>1980</td>\n",
       "      <td>3</td>\n",
       "      <td>8</td>\n",
       "      <td>-0.02</td>\n",
       "      <td>-109.46</td>\n",
       "      <td>-4.9</td>\n",
       "      <td>1.1</td>\n",
       "      <td>.</td>\n",
       "      <td>25.66</td>\n",
       "      <td>25.97</td>\n",
       "    </tr>\n",
       "    <tr>\n",
       "      <th>3</th>\n",
       "      <td>1980</td>\n",
       "      <td>3</td>\n",
       "      <td>9</td>\n",
       "      <td>-0.02</td>\n",
       "      <td>-109.46</td>\n",
       "      <td>-4.5</td>\n",
       "      <td>2.2</td>\n",
       "      <td>.</td>\n",
       "      <td>25.69</td>\n",
       "      <td>25.28</td>\n",
       "    </tr>\n",
       "    <tr>\n",
       "      <th>4</th>\n",
       "      <td>1980</td>\n",
       "      <td>3</td>\n",
       "      <td>10</td>\n",
       "      <td>-0.02</td>\n",
       "      <td>-109.46</td>\n",
       "      <td>-3.8</td>\n",
       "      <td>1.9</td>\n",
       "      <td>.</td>\n",
       "      <td>25.57</td>\n",
       "      <td>24.31</td>\n",
       "    </tr>\n",
       "    <tr>\n",
       "      <th>5</th>\n",
       "      <td>1980</td>\n",
       "      <td>3</td>\n",
       "      <td>11</td>\n",
       "      <td>-0.02</td>\n",
       "      <td>-109.46</td>\n",
       "      <td>-4.2</td>\n",
       "      <td>1.5</td>\n",
       "      <td>.</td>\n",
       "      <td>25.3</td>\n",
       "      <td>23.19</td>\n",
       "    </tr>\n",
       "  </tbody>\n",
       "</table>\n",
       "</div>"
      ],
      "text/plain": [
       "             Year  Month  Day  Latitude  Longitude Zonal Winds  \\\n",
       "Observation                                                      \n",
       "1            1980      3    7     -0.02    -109.46        -6.8   \n",
       "2            1980      3    8     -0.02    -109.46        -4.9   \n",
       "3            1980      3    9     -0.02    -109.46        -4.5   \n",
       "4            1980      3   10     -0.02    -109.46        -3.8   \n",
       "5            1980      3   11     -0.02    -109.46        -4.2   \n",
       "\n",
       "            Meridional Winds Humidity Air Temp Sea Surface Temp  \n",
       "Observation                                                      \n",
       "1                        0.7        .    26.14            26.24  \n",
       "2                        1.1        .    25.66            25.97  \n",
       "3                        2.2        .    25.69            25.28  \n",
       "4                        1.9        .    25.57            24.31  \n",
       "5                        1.5        .     25.3            23.19  "
      ]
     },
     "execution_count": 4,
     "metadata": {},
     "output_type": "execute_result"
    }
   ],
   "source": [
    "df = df.set_index('Observation')\n",
    "df.Year = df.Year + 1900\n",
    "del df['Date']\n",
    "df.head()"
   ]
  },
  {
   "cell_type": "code",
   "execution_count": 5,
   "metadata": {
    "colab": {
     "base_uri": "https://localhost:8080/",
     "height": 35
    },
    "colab_type": "code",
    "id": "ts3yOitZxEYP",
    "outputId": "3fd6b81d-5542-4820-8713-c584dcc4b89e"
   },
   "outputs": [
    {
     "data": {
      "text/plain": [
       "(178080, 10)"
      ]
     },
     "execution_count": 5,
     "metadata": {},
     "output_type": "execute_result"
    }
   ],
   "source": [
    "df.shape"
   ]
  },
  {
   "cell_type": "code",
   "execution_count": 6,
   "metadata": {},
   "outputs": [
    {
     "name": "stdout",
     "output_type": "stream",
     "text": [
      "<class 'pandas.core.frame.DataFrame'>\n",
      "Int64Index: 178080 entries, 1 to 178080\n",
      "Data columns (total 10 columns):\n",
      " #   Column            Non-Null Count   Dtype  \n",
      "---  ------            --------------   -----  \n",
      " 0   Year              178080 non-null  int64  \n",
      " 1   Month             178080 non-null  int64  \n",
      " 2   Day               178080 non-null  int64  \n",
      " 3   Latitude          178080 non-null  float64\n",
      " 4   Longitude         178080 non-null  float64\n",
      " 5   Zonal Winds       178080 non-null  object \n",
      " 6   Meridional Winds  178080 non-null  object \n",
      " 7   Humidity          178080 non-null  object \n",
      " 8   Air Temp          178080 non-null  object \n",
      " 9   Sea Surface Temp  178080 non-null  object \n",
      "dtypes: float64(2), int64(3), object(5)\n",
      "memory usage: 14.9+ MB\n"
     ]
    }
   ],
   "source": [
    "df.info()"
   ]
  },
  {
   "cell_type": "code",
   "execution_count": 7,
   "metadata": {
    "colab": {
     "base_uri": "https://localhost:8080/",
     "height": 181
    },
    "colab_type": "code",
    "id": "jPHvrTySxn6x",
    "outputId": "4e849fff-6881-42e9-9306-f365c61af740"
   },
   "outputs": [
    {
     "data": {
      "text/html": [
       "<div>\n",
       "<style scoped>\n",
       "    .dataframe tbody tr th:only-of-type {\n",
       "        vertical-align: middle;\n",
       "    }\n",
       "\n",
       "    .dataframe tbody tr th {\n",
       "        vertical-align: top;\n",
       "    }\n",
       "\n",
       "    .dataframe thead th {\n",
       "        text-align: right;\n",
       "    }\n",
       "</style>\n",
       "<table border=\"1\" class=\"dataframe\">\n",
       "  <thead>\n",
       "    <tr style=\"text-align: right;\">\n",
       "      <th></th>\n",
       "      <th>Year</th>\n",
       "      <th>Month</th>\n",
       "      <th>Day</th>\n",
       "      <th>Latitude</th>\n",
       "      <th>Longitude</th>\n",
       "      <th>Zonal Winds</th>\n",
       "      <th>Meridional Winds</th>\n",
       "      <th>Humidity</th>\n",
       "      <th>Air Temp</th>\n",
       "      <th>Sea Surface Temp</th>\n",
       "    </tr>\n",
       "  </thead>\n",
       "  <tbody>\n",
       "    <tr>\n",
       "      <th>count</th>\n",
       "      <td>178080.000000</td>\n",
       "      <td>178080.000000</td>\n",
       "      <td>178080.000000</td>\n",
       "      <td>178080.000000</td>\n",
       "      <td>178080.000000</td>\n",
       "      <td>152917.000000</td>\n",
       "      <td>152918.000000</td>\n",
       "      <td>112319.000000</td>\n",
       "      <td>159843.000000</td>\n",
       "      <td>161073.000000</td>\n",
       "    </tr>\n",
       "    <tr>\n",
       "      <th>mean</th>\n",
       "      <td>1993.302325</td>\n",
       "      <td>6.504869</td>\n",
       "      <td>15.720536</td>\n",
       "      <td>0.473626</td>\n",
       "      <td>-54.025233</td>\n",
       "      <td>-3.304772</td>\n",
       "      <td>0.249762</td>\n",
       "      <td>81.236525</td>\n",
       "      <td>26.887567</td>\n",
       "      <td>27.715309</td>\n",
       "    </tr>\n",
       "    <tr>\n",
       "      <th>std</th>\n",
       "      <td>3.393818</td>\n",
       "      <td>3.459657</td>\n",
       "      <td>8.800487</td>\n",
       "      <td>4.583041</td>\n",
       "      <td>135.363994</td>\n",
       "      <td>3.373492</td>\n",
       "      <td>2.999202</td>\n",
       "      <td>5.313061</td>\n",
       "      <td>1.816429</td>\n",
       "      <td>2.057428</td>\n",
       "    </tr>\n",
       "    <tr>\n",
       "      <th>min</th>\n",
       "      <td>1980.000000</td>\n",
       "      <td>1.000000</td>\n",
       "      <td>1.000000</td>\n",
       "      <td>-8.810000</td>\n",
       "      <td>-180.000000</td>\n",
       "      <td>-12.400000</td>\n",
       "      <td>-11.600000</td>\n",
       "      <td>45.400000</td>\n",
       "      <td>17.050000</td>\n",
       "      <td>17.350000</td>\n",
       "    </tr>\n",
       "    <tr>\n",
       "      <th>25%</th>\n",
       "      <td>1992.000000</td>\n",
       "      <td>4.000000</td>\n",
       "      <td>8.000000</td>\n",
       "      <td>-2.010000</td>\n",
       "      <td>-154.950000</td>\n",
       "      <td>-5.800000</td>\n",
       "      <td>-1.700000</td>\n",
       "      <td>77.700000</td>\n",
       "      <td>26.060000</td>\n",
       "      <td>26.770000</td>\n",
       "    </tr>\n",
       "    <tr>\n",
       "      <th>50%</th>\n",
       "      <td>1994.000000</td>\n",
       "      <td>6.000000</td>\n",
       "      <td>16.000000</td>\n",
       "      <td>0.010000</td>\n",
       "      <td>-111.260000</td>\n",
       "      <td>-4.000000</td>\n",
       "      <td>0.300000</td>\n",
       "      <td>81.200000</td>\n",
       "      <td>27.340000</td>\n",
       "      <td>28.290000</td>\n",
       "    </tr>\n",
       "    <tr>\n",
       "      <th>75%</th>\n",
       "      <td>1996.000000</td>\n",
       "      <td>10.000000</td>\n",
       "      <td>23.000000</td>\n",
       "      <td>4.980000</td>\n",
       "      <td>147.010000</td>\n",
       "      <td>-1.400000</td>\n",
       "      <td>2.300000</td>\n",
       "      <td>84.800000</td>\n",
       "      <td>28.180000</td>\n",
       "      <td>29.230000</td>\n",
       "    </tr>\n",
       "    <tr>\n",
       "      <th>max</th>\n",
       "      <td>1998.000000</td>\n",
       "      <td>12.000000</td>\n",
       "      <td>31.000000</td>\n",
       "      <td>9.050000</td>\n",
       "      <td>171.080000</td>\n",
       "      <td>14.300000</td>\n",
       "      <td>13.000000</td>\n",
       "      <td>99.900000</td>\n",
       "      <td>31.660000</td>\n",
       "      <td>31.260000</td>\n",
       "    </tr>\n",
       "  </tbody>\n",
       "</table>\n",
       "</div>"
      ],
      "text/plain": [
       "                Year          Month            Day       Latitude  \\\n",
       "count  178080.000000  178080.000000  178080.000000  178080.000000   \n",
       "mean     1993.302325       6.504869      15.720536       0.473626   \n",
       "std         3.393818       3.459657       8.800487       4.583041   \n",
       "min      1980.000000       1.000000       1.000000      -8.810000   \n",
       "25%      1992.000000       4.000000       8.000000      -2.010000   \n",
       "50%      1994.000000       6.000000      16.000000       0.010000   \n",
       "75%      1996.000000      10.000000      23.000000       4.980000   \n",
       "max      1998.000000      12.000000      31.000000       9.050000   \n",
       "\n",
       "           Longitude    Zonal Winds  Meridional Winds       Humidity  \\\n",
       "count  178080.000000  152917.000000     152918.000000  112319.000000   \n",
       "mean      -54.025233      -3.304772          0.249762      81.236525   \n",
       "std       135.363994       3.373492          2.999202       5.313061   \n",
       "min      -180.000000     -12.400000        -11.600000      45.400000   \n",
       "25%      -154.950000      -5.800000         -1.700000      77.700000   \n",
       "50%      -111.260000      -4.000000          0.300000      81.200000   \n",
       "75%       147.010000      -1.400000          2.300000      84.800000   \n",
       "max       171.080000      14.300000         13.000000      99.900000   \n",
       "\n",
       "            Air Temp  Sea Surface Temp  \n",
       "count  159843.000000     161073.000000  \n",
       "mean       26.887567         27.715309  \n",
       "std         1.816429          2.057428  \n",
       "min        17.050000         17.350000  \n",
       "25%        26.060000         26.770000  \n",
       "50%        27.340000         28.290000  \n",
       "75%        28.180000         29.230000  \n",
       "max        31.660000         31.260000  "
      ]
     },
     "execution_count": 7,
     "metadata": {},
     "output_type": "execute_result"
    }
   ],
   "source": [
    "for col in df.columns:\n",
    "    df[col] = pd.to_numeric(df[col], errors='coerce')\n",
    "\n",
    "df.describe()"
   ]
  },
  {
   "cell_type": "code",
   "execution_count": 8,
   "metadata": {},
   "outputs": [
    {
     "data": {
      "text/html": [
       "<div>\n",
       "<style scoped>\n",
       "    .dataframe tbody tr th:only-of-type {\n",
       "        vertical-align: middle;\n",
       "    }\n",
       "\n",
       "    .dataframe tbody tr th {\n",
       "        vertical-align: top;\n",
       "    }\n",
       "\n",
       "    .dataframe thead th {\n",
       "        text-align: right;\n",
       "    }\n",
       "</style>\n",
       "<table border=\"1\" class=\"dataframe\">\n",
       "  <thead>\n",
       "    <tr style=\"text-align: right;\">\n",
       "      <th></th>\n",
       "      <th>Year</th>\n",
       "      <th>Month</th>\n",
       "      <th>Day</th>\n",
       "      <th>Latitude</th>\n",
       "      <th>Longitude</th>\n",
       "      <th>Zonal Winds</th>\n",
       "      <th>Meridional Winds</th>\n",
       "      <th>Humidity</th>\n",
       "      <th>Air Temp</th>\n",
       "      <th>Sea Surface Temp</th>\n",
       "      <th>Date</th>\n",
       "    </tr>\n",
       "    <tr>\n",
       "      <th>Observation</th>\n",
       "      <th></th>\n",
       "      <th></th>\n",
       "      <th></th>\n",
       "      <th></th>\n",
       "      <th></th>\n",
       "      <th></th>\n",
       "      <th></th>\n",
       "      <th></th>\n",
       "      <th></th>\n",
       "      <th></th>\n",
       "      <th></th>\n",
       "    </tr>\n",
       "  </thead>\n",
       "  <tbody>\n",
       "    <tr>\n",
       "      <th>1</th>\n",
       "      <td>1980</td>\n",
       "      <td>3</td>\n",
       "      <td>7</td>\n",
       "      <td>-0.02</td>\n",
       "      <td>-109.46</td>\n",
       "      <td>-6.8</td>\n",
       "      <td>0.7</td>\n",
       "      <td>NaN</td>\n",
       "      <td>26.14</td>\n",
       "      <td>26.24</td>\n",
       "      <td>1980-03-07</td>\n",
       "    </tr>\n",
       "    <tr>\n",
       "      <th>2</th>\n",
       "      <td>1980</td>\n",
       "      <td>3</td>\n",
       "      <td>8</td>\n",
       "      <td>-0.02</td>\n",
       "      <td>-109.46</td>\n",
       "      <td>-4.9</td>\n",
       "      <td>1.1</td>\n",
       "      <td>NaN</td>\n",
       "      <td>25.66</td>\n",
       "      <td>25.97</td>\n",
       "      <td>1980-03-08</td>\n",
       "    </tr>\n",
       "    <tr>\n",
       "      <th>3</th>\n",
       "      <td>1980</td>\n",
       "      <td>3</td>\n",
       "      <td>9</td>\n",
       "      <td>-0.02</td>\n",
       "      <td>-109.46</td>\n",
       "      <td>-4.5</td>\n",
       "      <td>2.2</td>\n",
       "      <td>NaN</td>\n",
       "      <td>25.69</td>\n",
       "      <td>25.28</td>\n",
       "      <td>1980-03-09</td>\n",
       "    </tr>\n",
       "    <tr>\n",
       "      <th>4</th>\n",
       "      <td>1980</td>\n",
       "      <td>3</td>\n",
       "      <td>10</td>\n",
       "      <td>-0.02</td>\n",
       "      <td>-109.46</td>\n",
       "      <td>-3.8</td>\n",
       "      <td>1.9</td>\n",
       "      <td>NaN</td>\n",
       "      <td>25.57</td>\n",
       "      <td>24.31</td>\n",
       "      <td>1980-03-10</td>\n",
       "    </tr>\n",
       "    <tr>\n",
       "      <th>5</th>\n",
       "      <td>1980</td>\n",
       "      <td>3</td>\n",
       "      <td>11</td>\n",
       "      <td>-0.02</td>\n",
       "      <td>-109.46</td>\n",
       "      <td>-4.2</td>\n",
       "      <td>1.5</td>\n",
       "      <td>NaN</td>\n",
       "      <td>25.30</td>\n",
       "      <td>23.19</td>\n",
       "      <td>1980-03-11</td>\n",
       "    </tr>\n",
       "  </tbody>\n",
       "</table>\n",
       "</div>"
      ],
      "text/plain": [
       "             Year  Month  Day  Latitude  Longitude  Zonal Winds  \\\n",
       "Observation                                                       \n",
       "1            1980      3    7     -0.02    -109.46         -6.8   \n",
       "2            1980      3    8     -0.02    -109.46         -4.9   \n",
       "3            1980      3    9     -0.02    -109.46         -4.5   \n",
       "4            1980      3   10     -0.02    -109.46         -3.8   \n",
       "5            1980      3   11     -0.02    -109.46         -4.2   \n",
       "\n",
       "             Meridional Winds  Humidity  Air Temp  Sea Surface Temp       Date  \n",
       "Observation                                                                     \n",
       "1                         0.7       NaN     26.14             26.24 1980-03-07  \n",
       "2                         1.1       NaN     25.66             25.97 1980-03-08  \n",
       "3                         2.2       NaN     25.69             25.28 1980-03-09  \n",
       "4                         1.9       NaN     25.57             24.31 1980-03-10  \n",
       "5                         1.5       NaN     25.30             23.19 1980-03-11  "
      ]
     },
     "execution_count": 8,
     "metadata": {},
     "output_type": "execute_result"
    }
   ],
   "source": [
    "dates = [datetime.datetime(df['Year'][i], df['Month'][i], df['Day'][i]) for i in range(1, df.shape[0] + 1)]\n",
    "df['Date'] = dates\n",
    "df.head()"
   ]
  },
  {
   "cell_type": "code",
   "execution_count": 9,
   "metadata": {},
   "outputs": [
    {
     "name": "stdout",
     "output_type": "stream",
     "text": [
      "<class 'pandas.core.frame.DataFrame'>\n",
      "Int64Index: 178080 entries, 1 to 178080\n",
      "Data columns (total 11 columns):\n",
      " #   Column            Non-Null Count   Dtype         \n",
      "---  ------            --------------   -----         \n",
      " 0   Year              178080 non-null  int64         \n",
      " 1   Month             178080 non-null  int64         \n",
      " 2   Day               178080 non-null  int64         \n",
      " 3   Latitude          178080 non-null  float64       \n",
      " 4   Longitude         178080 non-null  float64       \n",
      " 5   Zonal Winds       152917 non-null  float64       \n",
      " 6   Meridional Winds  152918 non-null  float64       \n",
      " 7   Humidity          112319 non-null  float64       \n",
      " 8   Air Temp          159843 non-null  float64       \n",
      " 9   Sea Surface Temp  161073 non-null  float64       \n",
      " 10  Date              178080 non-null  datetime64[ns]\n",
      "dtypes: datetime64[ns](1), float64(7), int64(3)\n",
      "memory usage: 21.3 MB\n"
     ]
    }
   ],
   "source": [
    "df.info()"
   ]
  },
  {
   "cell_type": "code",
   "execution_count": 10,
   "metadata": {},
   "outputs": [
    {
     "data": {
      "text/plain": [
       "Year                    0\n",
       "Month                   0\n",
       "Day                     0\n",
       "Latitude                0\n",
       "Longitude               0\n",
       "Zonal Winds         25163\n",
       "Meridional Winds    25162\n",
       "Humidity            65761\n",
       "Air Temp            18237\n",
       "Sea Surface Temp    17007\n",
       "Date                    0\n",
       "dtype: int64"
      ]
     },
     "execution_count": 10,
     "metadata": {},
     "output_type": "execute_result"
    }
   ],
   "source": [
    "df.isnull().sum()"
   ]
  },
  {
   "cell_type": "code",
   "execution_count": 11,
   "metadata": {},
   "outputs": [
    {
     "data": {
      "text/html": [
       "<div>\n",
       "<style scoped>\n",
       "    .dataframe tbody tr th:only-of-type {\n",
       "        vertical-align: middle;\n",
       "    }\n",
       "\n",
       "    .dataframe tbody tr th {\n",
       "        vertical-align: top;\n",
       "    }\n",
       "\n",
       "    .dataframe thead th {\n",
       "        text-align: right;\n",
       "    }\n",
       "</style>\n",
       "<table border=\"1\" class=\"dataframe\">\n",
       "  <thead>\n",
       "    <tr style=\"text-align: right;\">\n",
       "      <th></th>\n",
       "      <th>Year</th>\n",
       "      <th>Month</th>\n",
       "      <th>Day</th>\n",
       "      <th>Latitude</th>\n",
       "      <th>Longitude</th>\n",
       "      <th>Zonal Winds</th>\n",
       "      <th>Meridional Winds</th>\n",
       "      <th>Humidity</th>\n",
       "      <th>Air Temp</th>\n",
       "      <th>Sea Surface Temp</th>\n",
       "    </tr>\n",
       "  </thead>\n",
       "  <tbody>\n",
       "    <tr>\n",
       "      <th>count</th>\n",
       "      <td>754.0</td>\n",
       "      <td>754.0</td>\n",
       "      <td>754.000000</td>\n",
       "      <td>754.000000</td>\n",
       "      <td>754.000000</td>\n",
       "      <td>648.000000</td>\n",
       "      <td>648.000000</td>\n",
       "      <td>30.00000</td>\n",
       "      <td>612.000000</td>\n",
       "      <td>442.000000</td>\n",
       "    </tr>\n",
       "    <tr>\n",
       "      <th>mean</th>\n",
       "      <td>1990.0</td>\n",
       "      <td>6.0</td>\n",
       "      <td>15.568966</td>\n",
       "      <td>2.244191</td>\n",
       "      <td>-26.275981</td>\n",
       "      <td>-3.589815</td>\n",
       "      <td>0.908796</td>\n",
       "      <td>84.89000</td>\n",
       "      <td>27.005948</td>\n",
       "      <td>27.857172</td>\n",
       "    </tr>\n",
       "    <tr>\n",
       "      <th>std</th>\n",
       "      <td>0.0</td>\n",
       "      <td>0.0</td>\n",
       "      <td>8.690099</td>\n",
       "      <td>3.607557</td>\n",
       "      <td>141.740318</td>\n",
       "      <td>3.043907</td>\n",
       "      <td>2.856869</td>\n",
       "      <td>2.68474</td>\n",
       "      <td>1.314120</td>\n",
       "      <td>1.543925</td>\n",
       "    </tr>\n",
       "    <tr>\n",
       "      <th>min</th>\n",
       "      <td>1990.0</td>\n",
       "      <td>6.0</td>\n",
       "      <td>1.000000</td>\n",
       "      <td>-5.050000</td>\n",
       "      <td>-169.490000</td>\n",
       "      <td>-9.200000</td>\n",
       "      <td>-7.800000</td>\n",
       "      <td>81.00000</td>\n",
       "      <td>23.580000</td>\n",
       "      <td>23.160000</td>\n",
       "    </tr>\n",
       "    <tr>\n",
       "      <th>25%</th>\n",
       "      <td>1990.0</td>\n",
       "      <td>6.0</td>\n",
       "      <td>8.000000</td>\n",
       "      <td>-0.020000</td>\n",
       "      <td>-140.010000</td>\n",
       "      <td>-5.900000</td>\n",
       "      <td>-0.700000</td>\n",
       "      <td>82.57500</td>\n",
       "      <td>26.060000</td>\n",
       "      <td>27.070000</td>\n",
       "    </tr>\n",
       "    <tr>\n",
       "      <th>50%</th>\n",
       "      <td>1990.0</td>\n",
       "      <td>6.0</td>\n",
       "      <td>16.000000</td>\n",
       "      <td>1.980000</td>\n",
       "      <td>-110.130000</td>\n",
       "      <td>-4.300000</td>\n",
       "      <td>1.000000</td>\n",
       "      <td>84.70000</td>\n",
       "      <td>27.070000</td>\n",
       "      <td>28.120000</td>\n",
       "    </tr>\n",
       "    <tr>\n",
       "      <th>75%</th>\n",
       "      <td>1990.0</td>\n",
       "      <td>6.0</td>\n",
       "      <td>23.000000</td>\n",
       "      <td>5.000000</td>\n",
       "      <td>154.830000</td>\n",
       "      <td>-1.500000</td>\n",
       "      <td>2.625000</td>\n",
       "      <td>87.02500</td>\n",
       "      <td>27.985000</td>\n",
       "      <td>28.867500</td>\n",
       "    </tr>\n",
       "    <tr>\n",
       "      <th>max</th>\n",
       "      <td>1990.0</td>\n",
       "      <td>6.0</td>\n",
       "      <td>30.000000</td>\n",
       "      <td>8.980000</td>\n",
       "      <td>166.920000</td>\n",
       "      <td>7.900000</td>\n",
       "      <td>8.800000</td>\n",
       "      <td>89.40000</td>\n",
       "      <td>29.570000</td>\n",
       "      <td>30.610000</td>\n",
       "    </tr>\n",
       "  </tbody>\n",
       "</table>\n",
       "</div>"
      ],
      "text/plain": [
       "         Year  Month         Day    Latitude   Longitude  Zonal Winds  \\\n",
       "count   754.0  754.0  754.000000  754.000000  754.000000   648.000000   \n",
       "mean   1990.0    6.0   15.568966    2.244191  -26.275981    -3.589815   \n",
       "std       0.0    0.0    8.690099    3.607557  141.740318     3.043907   \n",
       "min    1990.0    6.0    1.000000   -5.050000 -169.490000    -9.200000   \n",
       "25%    1990.0    6.0    8.000000   -0.020000 -140.010000    -5.900000   \n",
       "50%    1990.0    6.0   16.000000    1.980000 -110.130000    -4.300000   \n",
       "75%    1990.0    6.0   23.000000    5.000000  154.830000    -1.500000   \n",
       "max    1990.0    6.0   30.000000    8.980000  166.920000     7.900000   \n",
       "\n",
       "       Meridional Winds  Humidity    Air Temp  Sea Surface Temp  \n",
       "count        648.000000  30.00000  612.000000        442.000000  \n",
       "mean           0.908796  84.89000   27.005948         27.857172  \n",
       "std            2.856869   2.68474    1.314120          1.543925  \n",
       "min           -7.800000  81.00000   23.580000         23.160000  \n",
       "25%           -0.700000  82.57500   26.060000         27.070000  \n",
       "50%            1.000000  84.70000   27.070000         28.120000  \n",
       "75%            2.625000  87.02500   27.985000         28.867500  \n",
       "max            8.800000  89.40000   29.570000         30.610000  "
      ]
     },
     "execution_count": 11,
     "metadata": {},
     "output_type": "execute_result"
    }
   ],
   "source": [
    "df[(df['Year'] == 1990) & (df['Month'] == 6)].describe()"
   ]
  },
  {
   "cell_type": "code",
   "execution_count": 12,
   "metadata": {},
   "outputs": [
    {
     "data": {
      "text/plain": [
       "<matplotlib.collections.PathCollection at 0x7f943616a520>"
      ]
     },
     "execution_count": 12,
     "metadata": {},
     "output_type": "execute_result"
    },
    {
     "data": {
      "image/png": "[encoded data removed]",
      "text/plain": [
       "<Figure size 432x288 with 1 Axes>"
      ]
     },
     "metadata": {
      "needs_background": "light"
     },
     "output_type": "display_data"
    }
   ],
   "source": [
    "plt.scatter(df['Date'], df['Air Temp'])"
   ]
  },
  {
   "cell_type": "code",
   "execution_count": 13,
   "metadata": {},
   "outputs": [
    {
     "data": {
      "text/plain": [
       "<matplotlib.collections.PathCollection at 0x7f9431ad98e0>"
      ]
     },
     "execution_count": 13,
     "metadata": {},
     "output_type": "execute_result"
    },
    {
     "data": {
      "image/png": "[encoded data removed]",
      "text/plain": [
       "<Figure size 432x288 with 1 Axes>"
      ]
     },
     "metadata": {
      "needs_background": "light"
     },
     "output_type": "display_data"
    }
   ],
   "source": [
    "plt.scatter(df['Date'], df['Sea Surface Temp'])"
   ]
  },
  {
   "cell_type": "code",
   "execution_count": 14,
   "metadata": {
    "colab": {
     "base_uri": "https://localhost:8080/",
     "height": 181
    },
    "colab_type": "code",
    "id": "ZCI1YE-pQDNO",
    "outputId": "484a0685-bc5a-4fc7-dff5-980b7da93a1d"
   },
   "outputs": [
    {
     "data": {
      "text/plain": [
       "<matplotlib.collections.PathCollection at 0x7f943611c280>"
      ]
     },
     "execution_count": 14,
     "metadata": {},
     "output_type": "execute_result"
    },
    {
     "data": {
      "image/png": "[encoded data removed]",
      "text/plain": [
       "<Figure size 432x288 with 1 Axes>"
      ]
     },
     "metadata": {
      "needs_background": "light"
     },
     "output_type": "display_data"
    }
   ],
   "source": [
    "plt.scatter(df['Longitude'], df['Latitude'])"
   ]
  },
  {
   "cell_type": "code",
   "execution_count": 21,
   "metadata": {
    "colab": {
     "base_uri": "https://localhost:8080/",
     "height": 407
    },
    "colab_type": "code",
    "id": "imLA_wDs7pmT",
    "outputId": "9cd01b28-7607-4eb6-a1a9-e4b46eeffef1"
   },
   "outputs": [
    {
     "data": {
      "text/html": [
       "<div>\n",
       "<style scoped>\n",
       "    .dataframe tbody tr th:only-of-type {\n",
       "        vertical-align: middle;\n",
       "    }\n",
       "\n",
       "    .dataframe tbody tr th {\n",
       "        vertical-align: top;\n",
       "    }\n",
       "\n",
       "    .dataframe thead th {\n",
       "        text-align: right;\n",
       "    }\n",
       "</style>\n",
       "<table border=\"1\" class=\"dataframe\">\n",
       "  <thead>\n",
       "    <tr style=\"text-align: right;\">\n",
       "      <th></th>\n",
       "      <th>Year</th>\n",
       "      <th>Month</th>\n",
       "      <th>Day</th>\n",
       "      <th>Latitude</th>\n",
       "      <th>Longitude</th>\n",
       "      <th>Zonal Winds</th>\n",
       "      <th>Meridional Winds</th>\n",
       "      <th>Humidity</th>\n",
       "      <th>Air Temp</th>\n",
       "      <th>Sea Surface Temp</th>\n",
       "      <th>Date</th>\n",
       "      <th>Coordenadas</th>\n",
       "    </tr>\n",
       "    <tr>\n",
       "      <th>Observation</th>\n",
       "      <th></th>\n",
       "      <th></th>\n",
       "      <th></th>\n",
       "      <th></th>\n",
       "      <th></th>\n",
       "      <th></th>\n",
       "      <th></th>\n",
       "      <th></th>\n",
       "      <th></th>\n",
       "      <th></th>\n",
       "      <th></th>\n",
       "      <th></th>\n",
       "    </tr>\n",
       "  </thead>\n",
       "  <tbody>\n",
       "    <tr>\n",
       "      <th>1</th>\n",
       "      <td>1980</td>\n",
       "      <td>3</td>\n",
       "      <td>7</td>\n",
       "      <td>-0.02</td>\n",
       "      <td>-109.46</td>\n",
       "      <td>-6.8</td>\n",
       "      <td>0.7</td>\n",
       "      <td>NaN</td>\n",
       "      <td>26.14</td>\n",
       "      <td>26.24</td>\n",
       "      <td>1980-03-07</td>\n",
       "      <td>(-0.02, -109.46)</td>\n",
       "    </tr>\n",
       "    <tr>\n",
       "      <th>2</th>\n",
       "      <td>1980</td>\n",
       "      <td>3</td>\n",
       "      <td>8</td>\n",
       "      <td>-0.02</td>\n",
       "      <td>-109.46</td>\n",
       "      <td>-4.9</td>\n",
       "      <td>1.1</td>\n",
       "      <td>NaN</td>\n",
       "      <td>25.66</td>\n",
       "      <td>25.97</td>\n",
       "      <td>1980-03-08</td>\n",
       "      <td>(-0.02, -109.46)</td>\n",
       "    </tr>\n",
       "    <tr>\n",
       "      <th>3</th>\n",
       "      <td>1980</td>\n",
       "      <td>3</td>\n",
       "      <td>9</td>\n",
       "      <td>-0.02</td>\n",
       "      <td>-109.46</td>\n",
       "      <td>-4.5</td>\n",
       "      <td>2.2</td>\n",
       "      <td>NaN</td>\n",
       "      <td>25.69</td>\n",
       "      <td>25.28</td>\n",
       "      <td>1980-03-09</td>\n",
       "      <td>(-0.02, -109.46)</td>\n",
       "    </tr>\n",
       "    <tr>\n",
       "      <th>4</th>\n",
       "      <td>1980</td>\n",
       "      <td>3</td>\n",
       "      <td>10</td>\n",
       "      <td>-0.02</td>\n",
       "      <td>-109.46</td>\n",
       "      <td>-3.8</td>\n",
       "      <td>1.9</td>\n",
       "      <td>NaN</td>\n",
       "      <td>25.57</td>\n",
       "      <td>24.31</td>\n",
       "      <td>1980-03-10</td>\n",
       "      <td>(-0.02, -109.46)</td>\n",
       "    </tr>\n",
       "    <tr>\n",
       "      <th>5</th>\n",
       "      <td>1980</td>\n",
       "      <td>3</td>\n",
       "      <td>11</td>\n",
       "      <td>-0.02</td>\n",
       "      <td>-109.46</td>\n",
       "      <td>-4.2</td>\n",
       "      <td>1.5</td>\n",
       "      <td>NaN</td>\n",
       "      <td>25.30</td>\n",
       "      <td>23.19</td>\n",
       "      <td>1980-03-11</td>\n",
       "      <td>(-0.02, -109.46)</td>\n",
       "    </tr>\n",
       "    <tr>\n",
       "      <th>...</th>\n",
       "      <td>...</td>\n",
       "      <td>...</td>\n",
       "      <td>...</td>\n",
       "      <td>...</td>\n",
       "      <td>...</td>\n",
       "      <td>...</td>\n",
       "      <td>...</td>\n",
       "      <td>...</td>\n",
       "      <td>...</td>\n",
       "      <td>...</td>\n",
       "      <td>...</td>\n",
       "      <td>...</td>\n",
       "    </tr>\n",
       "    <tr>\n",
       "      <th>178076</th>\n",
       "      <td>1998</td>\n",
       "      <td>6</td>\n",
       "      <td>11</td>\n",
       "      <td>8.96</td>\n",
       "      <td>-140.33</td>\n",
       "      <td>-5.1</td>\n",
       "      <td>-0.4</td>\n",
       "      <td>94.1</td>\n",
       "      <td>26.04</td>\n",
       "      <td>28.14</td>\n",
       "      <td>1998-06-11</td>\n",
       "      <td>(8.96, -140.33)</td>\n",
       "    </tr>\n",
       "    <tr>\n",
       "      <th>178077</th>\n",
       "      <td>1998</td>\n",
       "      <td>6</td>\n",
       "      <td>12</td>\n",
       "      <td>8.96</td>\n",
       "      <td>-140.32</td>\n",
       "      <td>-4.3</td>\n",
       "      <td>-3.3</td>\n",
       "      <td>93.2</td>\n",
       "      <td>25.80</td>\n",
       "      <td>27.87</td>\n",
       "      <td>1998-06-12</td>\n",
       "      <td>(8.96, -140.32)</td>\n",
       "    </tr>\n",
       "    <tr>\n",
       "      <th>178078</th>\n",
       "      <td>1998</td>\n",
       "      <td>6</td>\n",
       "      <td>13</td>\n",
       "      <td>8.95</td>\n",
       "      <td>-140.34</td>\n",
       "      <td>-6.1</td>\n",
       "      <td>-4.8</td>\n",
       "      <td>81.3</td>\n",
       "      <td>27.17</td>\n",
       "      <td>27.93</td>\n",
       "      <td>1998-06-13</td>\n",
       "      <td>(8.95, -140.34)</td>\n",
       "    </tr>\n",
       "    <tr>\n",
       "      <th>178079</th>\n",
       "      <td>1998</td>\n",
       "      <td>6</td>\n",
       "      <td>14</td>\n",
       "      <td>8.96</td>\n",
       "      <td>-140.33</td>\n",
       "      <td>-4.9</td>\n",
       "      <td>-2.3</td>\n",
       "      <td>76.2</td>\n",
       "      <td>27.36</td>\n",
       "      <td>28.03</td>\n",
       "      <td>1998-06-14</td>\n",
       "      <td>(8.96, -140.33)</td>\n",
       "    </tr>\n",
       "    <tr>\n",
       "      <th>178080</th>\n",
       "      <td>1998</td>\n",
       "      <td>6</td>\n",
       "      <td>15</td>\n",
       "      <td>8.95</td>\n",
       "      <td>-140.33</td>\n",
       "      <td>NaN</td>\n",
       "      <td>NaN</td>\n",
       "      <td>NaN</td>\n",
       "      <td>27.09</td>\n",
       "      <td>28.09</td>\n",
       "      <td>1998-06-15</td>\n",
       "      <td>(8.95, -140.33)</td>\n",
       "    </tr>\n",
       "  </tbody>\n",
       "</table>\n",
       "<p>178080 rows × 12 columns</p>\n",
       "</div>"
      ],
      "text/plain": [
       "             Year  Month  Day  Latitude  Longitude  Zonal Winds  \\\n",
       "Observation                                                       \n",
       "1            1980      3    7     -0.02    -109.46         -6.8   \n",
       "2            1980      3    8     -0.02    -109.46         -4.9   \n",
       "3            1980      3    9     -0.02    -109.46         -4.5   \n",
       "4            1980      3   10     -0.02    -109.46         -3.8   \n",
       "5            1980      3   11     -0.02    -109.46         -4.2   \n",
       "...           ...    ...  ...       ...        ...          ...   \n",
       "178076       1998      6   11      8.96    -140.33         -5.1   \n",
       "178077       1998      6   12      8.96    -140.32         -4.3   \n",
       "178078       1998      6   13      8.95    -140.34         -6.1   \n",
       "178079       1998      6   14      8.96    -140.33         -4.9   \n",
       "178080       1998      6   15      8.95    -140.33          NaN   \n",
       "\n",
       "             Meridional Winds  Humidity  Air Temp  Sea Surface Temp  \\\n",
       "Observation                                                           \n",
       "1                         0.7       NaN     26.14             26.24   \n",
       "2                         1.1       NaN     25.66             25.97   \n",
       "3                         2.2       NaN     25.69             25.28   \n",
       "4                         1.9       NaN     25.57             24.31   \n",
       "5                         1.5       NaN     25.30             23.19   \n",
       "...                       ...       ...       ...               ...   \n",
       "178076                   -0.4      94.1     26.04             28.14   \n",
       "178077                   -3.3      93.2     25.80             27.87   \n",
       "178078                   -4.8      81.3     27.17             27.93   \n",
       "178079                   -2.3      76.2     27.36             28.03   \n",
       "178080                    NaN       NaN     27.09             28.09   \n",
       "\n",
       "                  Date       Coordenadas  \n",
       "Observation                               \n",
       "1           1980-03-07  (-0.02, -109.46)  \n",
       "2           1980-03-08  (-0.02, -109.46)  \n",
       "3           1980-03-09  (-0.02, -109.46)  \n",
       "4           1980-03-10  (-0.02, -109.46)  \n",
       "5           1980-03-11  (-0.02, -109.46)  \n",
       "...                ...               ...  \n",
       "178076      1998-06-11   (8.96, -140.33)  \n",
       "178077      1998-06-12   (8.96, -140.32)  \n",
       "178078      1998-06-13   (8.95, -140.34)  \n",
       "178079      1998-06-14   (8.96, -140.33)  \n",
       "178080      1998-06-15   (8.95, -140.33)  \n",
       "\n",
       "[178080 rows x 12 columns]"
      ]
     },
     "execution_count": 21,
     "metadata": {},
     "output_type": "execute_result"
    }
   ],
   "source": [
    "coordenadas = [(df['Latitude'][i], df['Longitude'][i]) for i in range(1, df.shape[0] + 1)] \n",
    "df['Coordenadas'] = coordenadas\n",
    "df"
   ]
  },
  {
   "cell_type": "code",
   "execution_count": 22,
   "metadata": {
    "colab": {
     "base_uri": "https://localhost:8080/",
     "height": 254
    },
    "colab_type": "code",
    "id": "B7GXaOMl7pZ-",
    "outputId": "2cb6d3f5-6963-4c64-bdc8-efc531e37e7f"
   },
   "outputs": [
    {
     "data": {
      "text/plain": [
       "Coordenadas\n",
       "(-8.81, 163.18)    29.3400\n",
       "(-8.77, 163.29)    29.3700\n",
       "(-8.69, 163.36)    29.3900\n",
       "(-8.6, 163.48)     29.4400\n",
       "(-8.56, 163.6)     29.4300\n",
       "                    ...   \n",
       "(9.03, -140.24)    27.4750\n",
       "(9.03, -140.15)    27.6000\n",
       "(9.04, -140.27)    27.7860\n",
       "(9.05, -140.27)    28.0625\n",
       "(9.05, -140.25)    28.2600\n",
       "Name: Sea Surface Temp, Length: 8536, dtype: float64"
      ]
     },
     "execution_count": 22,
     "metadata": {},
     "output_type": "execute_result"
    }
   ],
   "source": [
    "ubicaciones = df.groupby(['Coordenadas'])['Sea Surface Temp'].mean()\n",
    "ubicaciones"
   ]
  },
  {
   "cell_type": "code",
   "execution_count": 31,
   "metadata": {},
   "outputs": [
    {
     "data": {
      "application/vnd.jupyter.widget-view+json": {
       "model_id": "6389e2dcf4af4c3eb842cb02f960d054",
       "version_major": 2,
       "version_minor": 0
      },
      "text/plain": [
       "Map(center=[0, -150], controls=(ZoomControl(options=['position', 'zoom_in_text', 'zoom_in_title', 'zoom_out_te…"
      ]
     },
     "metadata": {},
     "output_type": "display_data"
    }
   ],
   "source": [
    "from ipyleaflet import Map, Marker\n",
    "\n",
    "m = Map(center=(0, -150), zoom=2)\n",
    "\n",
    "locations = df['Coordenadas'].unique()\n",
    "\n",
    "for i in range(len(locations)):\n",
    "    m.add_layer(Marker(location=locations[i], draggable=True));\n",
    "\n",
    "display(m)"
   ]
  },
  {
   "cell_type": "code",
   "execution_count": 30,
   "metadata": {
    "colab": {
     "base_uri": "https://localhost:8080/",
     "height": 283
    },
    "colab_type": "code",
    "id": "9Y762y6WRPGj",
    "outputId": "f47540d7-9030-4fda-bc17-e58b89b4187a"
   },
   "outputs": [
    {
     "data": {
      "text/plain": [
       "<seaborn.axisgrid.JointGrid at 0x7f93f9894e20>"
      ]
     },
     "execution_count": 30,
     "metadata": {},
     "output_type": "execute_result"
    },
    {
     "data": {
      "image/png": "[encoded data removed]",
      "text/plain": [
       "<Figure size 540x540 with 3 Axes>"
      ]
     },
     "metadata": {
      "needs_background": "light"
     },
     "output_type": "display_data"
    }
   ],
   "source": [
    "sns.jointplot(df['Air Temp'], df['Sea Surface Temp'], size=7.5)"
   ]
  },
  {
   "cell_type": "code",
   "execution_count": 40,
   "metadata": {},
   "outputs": [
    {
     "data": {
      "text/plain": [
       "Date\n",
       "1980-03-07    26.240000\n",
       "1980-03-08    25.970000\n",
       "1980-03-09    25.280000\n",
       "1980-03-10    24.310000\n",
       "1980-03-11    23.190000\n",
       "                ...    \n",
       "1998-06-19    27.965417\n",
       "1998-06-20    28.595000\n",
       "1998-06-21    28.797500\n",
       "1998-06-22    28.822857\n",
       "1998-06-23    29.300000\n",
       "Name: Sea Surface Temp, Length: 6371, dtype: float64"
      ]
     },
     "execution_count": 40,
     "metadata": {},
     "output_type": "execute_result"
    }
   ],
   "source": [
    "temp_by_dates = df.groupby(['Date'])['Sea Surface Temp'].mean()\n",
    "temp_by_dates"
   ]
  },
  {
   "cell_type": "code",
   "execution_count": 45,
   "metadata": {},
   "outputs": [
    {
     "data": {
      "text/plain": [
       "<matplotlib.collections.PathCollection at 0x7f93f662fb80>"
      ]
     },
     "execution_count": 45,
     "metadata": {},
     "output_type": "execute_result"
    },
    {
     "data": {
      "image/png": "[encoded data removed]",
      "text/plain": [
       "<Figure size 432x288 with 1 Axes>"
      ]
     },
     "metadata": {
      "needs_background": "light"
     },
     "output_type": "display_data"
    }
   ],
   "source": [
    "plt.scatter(df['Date'].unique(), df.groupby(['Date'])['Sea Surface Temp'].mean())"
   ]
  },
  {
   "cell_type": "code",
   "execution_count": null,
   "metadata": {},
   "outputs": [],
   "source": []
  },
  {
   "cell_type": "code",
   "execution_count": null,
   "metadata": {},
   "outputs": [],
   "source": []
  },
  {
   "cell_type": "code",
   "execution_count": null,
   "metadata": {},
   "outputs": [],
   "source": []
  }
 ],
 "metadata": {
  "colab": {
   "collapsed_sections": [],
   "name": "Presentación de clase.ipynb",
   "provenance": []
  },
  "kernelspec": {
   "display_name": "Python 3",
   "language": "python",
   "name": "python3"
  },
  "language_info": {
   "codemirror_mode": {
    "name": "ipython",
    "version": 3
   },
   "file_extension": ".py",
   "mimetype": "text/x-python",
   "name": "python",
   "nbconvert_exporter": "python",
   "pygments_lexer": "ipython3",
   "version": "3.8.3"
  }
 },
 "nbformat": 4,
 "nbformat_minor": 1
}
